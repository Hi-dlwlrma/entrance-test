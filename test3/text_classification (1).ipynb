{
  "cells": [
    {
      "cell_type": "code",
      "execution_count": 1,
      "metadata": {
        "id": "OolXPkAq6f1j"
      },
      "outputs": [],
      "source": [
        "import matplotlib.pyplot as plt\n",
        "import numpy as np\n",
        "import os\n",
        "import pandas as pd\n",
        "import pickle\n",
        "import time\n",
        "import tensorflow as tf\n",
        "import tensorflow.keras.layers as tfl\n",
        "\n",
        "from tensorflow.keras.preprocessing import image_dataset_from_directory\n",
        "from tensorflow.keras.layers.experimental.preprocessing import RandomFlip, RandomRotation\n",
        "from keras.preprocessing.image import ImageDataGenerator, load_img\n",
        "\n",
        "from sklearn.model_selection import train_test_split\n",
        "from sklearn.metrics import classification_report\n",
        "from sklearn.preprocessing import LabelEncoder\n",
        "from sklearn.feature_extraction.text import CountVectorizer\n",
        "from sklearn.feature_extraction.text import TfidfTransformer\n",
        "from sklearn.naive_bayes import MultinomialNB\n",
        "from sklearn.pipeline import Pipeline\n",
        "from sklearn.svm import SVC"
      ]
    },
    {
      "cell_type": "code",
      "execution_count": 2,
      "metadata": {
        "id": "2v7-AjKnPqyu",
        "colab": {
          "base_uri": "https://localhost:8080/"
        },
        "outputId": "69651e48-5559-49fe-e30f-6104b2052240"
      },
      "outputs": [
        {
          "output_type": "stream",
          "name": "stdout",
          "text": [
            "Drive already mounted at /content/drive; to attempt to forcibly remount, call drive.mount(\"/content/drive\", force_remount=True).\n"
          ]
        }
      ],
      "source": [
        "from google.colab import drive\n",
        "drive.mount('/content/drive')"
      ]
    },
    {
      "cell_type": "code",
      "execution_count": null,
      "metadata": {
        "id": "-tFDNs0zPxTt"
      },
      "outputs": [],
      "source": [
        "!unzip '/content/drive/MyDrive/vietnamese_document_data.zip' -d '/document_data'"
      ]
    },
    {
      "cell_type": "code",
      "execution_count": 4,
      "metadata": {
        "colab": {
          "base_uri": "https://localhost:8080/"
        },
        "id": "PJeKQr7JlOcf",
        "outputId": "7572a0fd-d7b8-440f-d65c-90044bec13ef"
      },
      "outputs": [
        {
          "output_type": "stream",
          "name": "stdout",
          "text": [
            "Python 3.7.12 (default, Jan 15 2022, 18:48:18) \n",
            "[GCC 7.5.0] on linux\n",
            "Type \"help\", \"copyright\", \"credits\" or \"license\" for more information.\n",
            ">>> exit()\n"
          ]
        }
      ],
      "source": [
        "!/usr/bin/python3\n",
        "# -*- coding: <encoding name> -*-"
      ]
    },
    {
      "cell_type": "code",
      "execution_count": 6,
      "metadata": {
        "id": "VDAx5VW6P-vU"
      },
      "outputs": [],
      "source": [
        "# -*- coding: utf-8 -*-\n",
        "\n",
        "file_name = '/document_data/document_data'\n",
        "\n",
        "X, y = [], []\n",
        "classes = ['Chinh tri Xa hoi', \n",
        "           'Doi song', \n",
        "           'Khoa hoc', \n",
        "           'Kinh doanh', \n",
        "           'Phap luat', \n",
        "           'Suc khoe', \n",
        "           'The gioi', \n",
        "           'The thao',\n",
        "           'Van hoa',\n",
        "           'Vi tinh']\n",
        "\n",
        "for class_name in classes:\n",
        "    url = os.path.join(file_name, class_name)\n",
        "    # print(url)\n",
        "    for _, _, files in os.walk(url):\n",
        "        for text in files:\n",
        "            with open(os.path.join(url, text), encoding='utf-8', errors='ignore') as f:\n",
        "                X.append(f.read())\n",
        "            y.append(class_name)"
      ]
    },
    {
      "cell_type": "code",
      "execution_count": 7,
      "metadata": {
        "id": "TH5TovvqRZ8M"
      },
      "outputs": [],
      "source": [
        "df = pd.DataFrame({\n",
        "    \"text\": X,\n",
        "    \"label\": y\n",
        "})"
      ]
    },
    {
      "cell_type": "code",
      "execution_count": 8,
      "metadata": {
        "colab": {
          "base_uri": "https://localhost:8080/",
          "height": 206
        },
        "id": "ovCAUEaFRbEz",
        "outputId": "516cceb2-9198-4258-e8f3-dcc806c0718e"
      },
      "outputs": [
        {
          "output_type": "execute_result",
          "data": {
            "text/html": [
              "\n",
              "  <div id=\"df-05cb9c06-dd7e-4616-8b0c-2b5a9a17cc50\">\n",
              "    <div class=\"colab-df-container\">\n",
              "      <div>\n",
              "<style scoped>\n",
              "    .dataframe tbody tr th:only-of-type {\n",
              "        vertical-align: middle;\n",
              "    }\n",
              "\n",
              "    .dataframe tbody tr th {\n",
              "        vertical-align: top;\n",
              "    }\n",
              "\n",
              "    .dataframe thead th {\n",
              "        text-align: right;\n",
              "    }\n",
              "</style>\n",
              "<table border=\"1\" class=\"dataframe\">\n",
              "  <thead>\n",
              "    <tr style=\"text-align: right;\">\n",
              "      <th></th>\n",
              "      <th>text</th>\n",
              "      <th>label</th>\n",
              "    </tr>\n",
              "  </thead>\n",
              "  <tbody>\n",
              "    <tr>\n",
              "      <th>0</th>\n",
              "      <td>\u0000S\u0000\u001et\u0000 \u0000l\u0000\u001e \u0000t\u0000r\u0000\u0000n\u0000 \u0000\u0011\u0001\u0001\u001en\u0000g\u0000 \u0000s\u0000\u001et\u0000 \u0000\u0011\u0001\u0000o\u0000 ...</td>\n",
              "      <td>Chinh tri Xa hoi</td>\n",
              "    </tr>\n",
              "    <tr>\n",
              "      <th>1</th>\n",
              "      <td>\u00002\u0000.\u00009\u00001\u00006\u0000 \u0000t\u0000\u001e \u0000\u0011\u0001\u001en\u0000g\u0000 \u0000c\u0000h\u0000o\u0000 \u0000q\u0000u\u0000\u001en\u0000 \u0000l...</td>\n",
              "      <td>Chinh tri Xa hoi</td>\n",
              "    </tr>\n",
              "    <tr>\n",
              "      <th>2</th>\n",
              "      <td>H\u0000\u0000m\u0000 \u0000n\u0000a\u0000y\u0000 \u00002\u00008\u0000/\u00003\u0000 \u0000t\u0000\u001ei\u0000 \u0000T\u0000P\u0000 \u0000P\u0000l\u0000e\u0000i\u0000...</td>\n",
              "      <td>Chinh tri Xa hoi</td>\n",
              "    </tr>\n",
              "    <tr>\n",
              "      <th>3</th>\n",
              "      <td>Q\u0000u\u0000y\u0000 \u0000t\u0000r\u0000\u0000n\u0000h\u0000 \u0000'\u0000l\u0000\u001et\u0000 \u0000x\u0000\u0000c\u0000'\u0000 \u0000c\u0000\u001ea\u0000 \u0000n\u0000...</td>\n",
              "      <td>Chinh tri Xa hoi</td>\n",
              "    </tr>\n",
              "    <tr>\n",
              "      <th>4</th>\n",
              "      <td>\u0000T\u0000h\u0000i\u0000 \u0000c\u0000\u0000n\u0000g\u0000 \u0000\u001eu\u0000,\u0000 \u0000b\u0000\u001e \u0000d\u0000\u0000n\u0000 \u0000k\u0000i\u0000\u001en\u0000\\...</td>\n",
              "      <td>Chinh tri Xa hoi</td>\n",
              "    </tr>\n",
              "  </tbody>\n",
              "</table>\n",
              "</div>\n",
              "      <button class=\"colab-df-convert\" onclick=\"convertToInteractive('df-05cb9c06-dd7e-4616-8b0c-2b5a9a17cc50')\"\n",
              "              title=\"Convert this dataframe to an interactive table.\"\n",
              "              style=\"display:none;\">\n",
              "        \n",
              "  <svg xmlns=\"http://www.w3.org/2000/svg\" height=\"24px\"viewBox=\"0 0 24 24\"\n",
              "       width=\"24px\">\n",
              "    <path d=\"M0 0h24v24H0V0z\" fill=\"none\"/>\n",
              "    <path d=\"M18.56 5.44l.94 2.06.94-2.06 2.06-.94-2.06-.94-.94-2.06-.94 2.06-2.06.94zm-11 1L8.5 8.5l.94-2.06 2.06-.94-2.06-.94L8.5 2.5l-.94 2.06-2.06.94zm10 10l.94 2.06.94-2.06 2.06-.94-2.06-.94-.94-2.06-.94 2.06-2.06.94z\"/><path d=\"M17.41 7.96l-1.37-1.37c-.4-.4-.92-.59-1.43-.59-.52 0-1.04.2-1.43.59L10.3 9.45l-7.72 7.72c-.78.78-.78 2.05 0 2.83L4 21.41c.39.39.9.59 1.41.59.51 0 1.02-.2 1.41-.59l7.78-7.78 2.81-2.81c.8-.78.8-2.07 0-2.86zM5.41 20L4 18.59l7.72-7.72 1.47 1.35L5.41 20z\"/>\n",
              "  </svg>\n",
              "      </button>\n",
              "      \n",
              "  <style>\n",
              "    .colab-df-container {\n",
              "      display:flex;\n",
              "      flex-wrap:wrap;\n",
              "      gap: 12px;\n",
              "    }\n",
              "\n",
              "    .colab-df-convert {\n",
              "      background-color: #E8F0FE;\n",
              "      border: none;\n",
              "      border-radius: 50%;\n",
              "      cursor: pointer;\n",
              "      display: none;\n",
              "      fill: #1967D2;\n",
              "      height: 32px;\n",
              "      padding: 0 0 0 0;\n",
              "      width: 32px;\n",
              "    }\n",
              "\n",
              "    .colab-df-convert:hover {\n",
              "      background-color: #E2EBFA;\n",
              "      box-shadow: 0px 1px 2px rgba(60, 64, 67, 0.3), 0px 1px 3px 1px rgba(60, 64, 67, 0.15);\n",
              "      fill: #174EA6;\n",
              "    }\n",
              "\n",
              "    [theme=dark] .colab-df-convert {\n",
              "      background-color: #3B4455;\n",
              "      fill: #D2E3FC;\n",
              "    }\n",
              "\n",
              "    [theme=dark] .colab-df-convert:hover {\n",
              "      background-color: #434B5C;\n",
              "      box-shadow: 0px 1px 3px 1px rgba(0, 0, 0, 0.15);\n",
              "      filter: drop-shadow(0px 1px 2px rgba(0, 0, 0, 0.3));\n",
              "      fill: #FFFFFF;\n",
              "    }\n",
              "  </style>\n",
              "\n",
              "      <script>\n",
              "        const buttonEl =\n",
              "          document.querySelector('#df-05cb9c06-dd7e-4616-8b0c-2b5a9a17cc50 button.colab-df-convert');\n",
              "        buttonEl.style.display =\n",
              "          google.colab.kernel.accessAllowed ? 'block' : 'none';\n",
              "\n",
              "        async function convertToInteractive(key) {\n",
              "          const element = document.querySelector('#df-05cb9c06-dd7e-4616-8b0c-2b5a9a17cc50');\n",
              "          const dataTable =\n",
              "            await google.colab.kernel.invokeFunction('convertToInteractive',\n",
              "                                                     [key], {});\n",
              "          if (!dataTable) return;\n",
              "\n",
              "          const docLinkHtml = 'Like what you see? Visit the ' +\n",
              "            '<a target=\"_blank\" href=https://colab.research.google.com/notebooks/data_table.ipynb>data table notebook</a>'\n",
              "            + ' to learn more about interactive tables.';\n",
              "          element.innerHTML = '';\n",
              "          dataTable['output_type'] = 'display_data';\n",
              "          await google.colab.output.renderOutput(dataTable, element);\n",
              "          const docLink = document.createElement('div');\n",
              "          docLink.innerHTML = docLinkHtml;\n",
              "          element.appendChild(docLink);\n",
              "        }\n",
              "      </script>\n",
              "    </div>\n",
              "  </div>\n",
              "  "
            ],
            "text/plain": [
              "                                                text             label\n",
              "0   \u0000S\u0000\n",
              "t\u0000 \u0000l\u0000\n",
              " \u0000t\u0000r\u0000\u0000n\u0000 \u0000\u0011\u0001\u0001\n",
              "n\u0000g\u0000 \u0000s\u0000\n",
              "t\u0000 \u0000\u0011\u0001\u0000o\u0000 ...  Chinh tri Xa hoi\n",
              "1   \u00002\u0000.\u00009\u00001\u00006\u0000 \u0000t\u0000\n",
              " \u0000\u0011\u0001\n",
              "n\u0000g\u0000 \u0000c\u0000h\u0000o\u0000 \u0000q\u0000u\u0000\n",
              "n\u0000 \u0000l...  Chinh tri Xa hoi\n",
              "2  H\u0000\u0000m\u0000 \u0000n\u0000a\u0000y\u0000 \u00002\u00008\u0000/\u00003\u0000 \u0000t\u0000\n",
              "i\u0000 \u0000T\u0000P\u0000 \u0000P\u0000l\u0000e\u0000i\u0000...  Chinh tri Xa hoi\n",
              "3  Q\u0000u\u0000y\u0000 \u0000t\u0000r\u0000\u0000n\u0000h\u0000 \u0000'\u0000l\u0000\n",
              "t\u0000 \u0000x\u0000\u0000c\u0000'\u0000 \u0000c\u0000\n",
              "a\u0000 \u0000n\u0000...  Chinh tri Xa hoi\n",
              "4   \u0000T\u0000h\u0000i\u0000 \u0000c\u0000\u0000n\u0000g\u0000 \u0000\n",
              "u\u0000,\u0000 \u0000b\u0000\n",
              " \u0000d\u0000\u0000n\u0000 \u0000k\u0000i\u0000\n",
              "n\u0000\\...  Chinh tri Xa hoi"
            ]
          },
          "metadata": {},
          "execution_count": 8
        }
      ],
      "source": [
        "df.head()"
      ]
    },
    {
      "cell_type": "markdown",
      "metadata": {
        "id": "gEn5mFp2RdbV"
      },
      "source": [
        "**Train test split data**\n",
        "1. Split dataset into 80% train set and 20% test set\n",
        "2. Convert label to number using LabelEncoding"
      ]
    },
    {
      "cell_type": "code",
      "execution_count": 9,
      "metadata": {
        "id": "J3VN8PNyRifs"
      },
      "outputs": [],
      "source": [
        "train_df, test_df = train_test_split(df, test_size=0.2)"
      ]
    },
    {
      "cell_type": "code",
      "execution_count": 10,
      "metadata": {
        "colab": {
          "base_uri": "https://localhost:8080/"
        },
        "id": "uZWSZe2XRlLR",
        "outputId": "3003cd94-1899-4407-f4f2-1afb8044d918"
      },
      "outputs": [
        {
          "output_type": "stream",
          "name": "stdout",
          "text": [
            "(27007, 2)\n",
            "(6752, 2)\n"
          ]
        }
      ],
      "source": [
        "print(train_df.shape)\n",
        "print(test_df.shape)"
      ]
    },
    {
      "cell_type": "code",
      "execution_count": 11,
      "metadata": {
        "colab": {
          "base_uri": "https://localhost:8080/",
          "height": 282
        },
        "id": "ljkimEHNRsrO",
        "outputId": "64148e3a-a87b-4d54-bc79-31264295875b"
      },
      "outputs": [
        {
          "output_type": "execute_result",
          "data": {
            "text/plain": [
              "<matplotlib.axes._subplots.AxesSubplot at 0x7fe4288c0d50>"
            ]
          },
          "metadata": {},
          "execution_count": 11
        },
        {
          "output_type": "display_data",
          "data": {
            "image/png": "[encoded data removed]",
            "text/plain": [
              "<Figure size 432x288 with 1 Axes>"
            ]
          },
          "metadata": {
            "needs_background": "light"
          }
        }
      ],
      "source": [
        "train_df['label'].hist()"
      ]
    },
    {
      "cell_type": "code",
      "execution_count": 12,
      "metadata": {
        "colab": {
          "base_uri": "https://localhost:8080/"
        },
        "id": "8RPgH71lmsV_",
        "outputId": "51659e1c-b114-4900-d777-d1d66977777f"
      },
      "outputs": [
        {
          "output_type": "stream",
          "name": "stdout",
          "text": [
            "['Chinh tri Xa hoi', 'Doi song', 'Khoa hoc', 'Kinh doanh', 'Phap luat', 'Suc khoe', 'The gioi', 'The thao', 'Van hoa', 'Vi tinh'] \n",
            "\n"
          ]
        }
      ],
      "source": [
        "# Encode label\n",
        "label_encoder = LabelEncoder()\n",
        "label_encoder.fit(train_df['label'])\n",
        "print(list(label_encoder.classes_), '\\n')"
      ]
    },
    {
      "cell_type": "code",
      "execution_count": 13,
      "metadata": {
        "id": "EnScpXhQ7bQg"
      },
      "outputs": [],
      "source": [
        "y_train = label_encoder.transform(train_df['label'])\n",
        "y_test = label_encoder.transform(test_df['label'])\n",
        "X_train = train_df['text']\n",
        "X_test = test_df['text']"
      ]
    },
    {
      "cell_type": "code",
      "execution_count": 14,
      "metadata": {
        "colab": {
          "base_uri": "https://localhost:8080/"
        },
        "id": "ZE9RbyC5pkmG",
        "outputId": "1711fd5a-2341-44c9-ca13-48577ca2c887"
      },
      "outputs": [
        {
          "output_type": "execute_result",
          "data": {
            "text/plain": [
              "array([3, 4, 1, ..., 5, 5, 7])"
            ]
          },
          "metadata": {},
          "execution_count": 14
        }
      ],
      "source": [
        "y_test"
      ]
    },
    {
      "cell_type": "markdown",
      "metadata": {
        "id": "bd1Wt6x7ppjo"
      },
      "source": [
        "**Classification**\n",
        "\n",
        "Use support vector machine algorithm to learn model"
      ]
    },
    {
      "cell_type": "code",
      "execution_count": 15,
      "metadata": {
        "colab": {
          "base_uri": "https://localhost:8080/"
        },
        "id": "-jndmRIXp-YO",
        "outputId": "a2db274e-cf77-4c67-d0e5-872d780783cb"
      },
      "outputs": [
        {
          "output_type": "stream",
          "name": "stdout",
          "text": [
            "Done training SVM in 26.787238359451294 seconds.\n"
          ]
        }
      ],
      "source": [
        "start_time = time.time()\n",
        "text_clf = Pipeline([('vect', CountVectorizer(ngram_range=(1,1),\n",
        "                                             max_df=0.8,\n",
        "                                             max_features=None)), \n",
        "                     ('tfidf', TfidfTransformer()),\n",
        "                     ('clf', SVC(gamma='scale'))\n",
        "                    ])\n",
        "text_clf = text_clf.fit(X_train, y_train)\n",
        " \n",
        "train_time = time.time() - start_time\n",
        "print('Done training SVM in', train_time, 'seconds.')\n",
        "\n",
        "# Save model\n",
        "MODEL_PATH = '/content/drive/MyDrive/'\n",
        "pickle.dump(text_clf, open(os.path.join(MODEL_PATH, \"svm.pkl\"), 'wb'))"
      ]
    },
    {
      "cell_type": "markdown",
      "metadata": {
        "id": "jFiJUfPprQ2n"
      },
      "source": [
        "**Evaluate model**"
      ]
    },
    {
      "cell_type": "code",
      "execution_count": 16,
      "metadata": {
        "colab": {
          "base_uri": "https://localhost:8080/"
        },
        "id": "76i7QEQVqxTv",
        "outputId": "9b69dd82-770a-4fae-d2dc-0e3d7a042185"
      },
      "outputs": [
        {
          "output_type": "stream",
          "name": "stdout",
          "text": [
            "SVM, Accuracy = 0.15876777251184834\n"
          ]
        }
      ],
      "source": [
        "model = pickle.load(open(os.path.join(MODEL_PATH,\"svm.pkl\"), 'rb'))\n",
        "y_pred = model.predict(X_test)\n",
        "print('SVM, Accuracy =', np.mean(y_pred == y_test))"
      ]
    },
    {
      "cell_type": "code",
      "execution_count": 17,
      "metadata": {
        "colab": {
          "base_uri": "https://localhost:8080/"
        },
        "id": "GDn8FeyKrIYO",
        "outputId": "55cc2fe4-b0f7-4192-91ac-b03e4578a75a"
      },
      "outputs": [
        {
          "output_type": "stream",
          "name": "stdout",
          "text": [
            "                  precision    recall  f1-score   support\n",
            "\n",
            "Chinh tri Xa hoi       0.00      0.00      0.00      1031\n",
            "        Doi song       0.00      0.00      0.00       610\n",
            "        Khoa hoc       0.00      0.00      0.00       384\n",
            "      Kinh doanh       0.00      0.00      0.00       497\n",
            "       Phap luat       0.00      0.00      0.00       789\n",
            "        Suc khoe       0.00      0.00      0.00       720\n",
            "        The gioi       0.00      0.00      0.00       595\n",
            "        The thao       0.16      1.00      0.27      1072\n",
            "         Van hoa       0.00      0.00      0.00       583\n",
            "         Vi tinh       0.00      0.00      0.00       471\n",
            "\n",
            "        accuracy                           0.16      6752\n",
            "       macro avg       0.02      0.10      0.03      6752\n",
            "    weighted avg       0.03      0.16      0.04      6752\n",
            "\n"
          ]
        },
        {
          "output_type": "stream",
          "name": "stderr",
          "text": [
            "/usr/local/lib/python3.7/dist-packages/sklearn/metrics/_classification.py:1318: UndefinedMetricWarning: Precision and F-score are ill-defined and being set to 0.0 in labels with no predicted samples. Use `zero_division` parameter to control this behavior.\n",
            "  _warn_prf(average, modifier, msg_start, len(result))\n",
            "/usr/local/lib/python3.7/dist-packages/sklearn/metrics/_classification.py:1318: UndefinedMetricWarning: Precision and F-score are ill-defined and being set to 0.0 in labels with no predicted samples. Use `zero_division` parameter to control this behavior.\n",
            "  _warn_prf(average, modifier, msg_start, len(result))\n",
            "/usr/local/lib/python3.7/dist-packages/sklearn/metrics/_classification.py:1318: UndefinedMetricWarning: Precision and F-score are ill-defined and being set to 0.0 in labels with no predicted samples. Use `zero_division` parameter to control this behavior.\n",
            "  _warn_prf(average, modifier, msg_start, len(result))\n"
          ]
        }
      ],
      "source": [
        "nb_model = pickle.load(open(os.path.join(MODEL_PATH,\"svm.pkl\"), 'rb'))\n",
        "y_pred = nb_model.predict(X_test)\n",
        "print(classification_report(y_test, y_pred, target_names=list(label_encoder.classes_)))"
      ]
    }
  ],
  "metadata": {
    "colab": {
      "name": "text_classification.ipynb",
      "provenance": []
    },
    "kernelspec": {
      "display_name": "Python 3",
      "name": "python3"
    },
    "language_info": {
      "name": "python"
    }
  },
  "nbformat": 4,
  "nbformat_minor": 0
}